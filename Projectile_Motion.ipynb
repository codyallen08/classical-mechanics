{
 "cells": [
  {
   "cell_type": "markdown",
   "metadata": {},
   "source": [
    "<h5>This notebook solves example 2.6 in <i> Classical Mechanics </i> by Taylor (edition 5) for projectile motion of a standard baseball.</h5>\n",
    "\n",
    "However, these equations approximate projectile motion of a spherical body with diameter on the order of 1cm or greater.  For more information, consult the text above or any text on fluid mechanics or aerodynamics. "
   ]
  },
  {
   "cell_type": "code",
   "execution_count": null,
   "metadata": {
    "collapsed": true
   },
   "outputs": [],
   "source": [
    "%matplotlib inline\n",
    "import matplotlib.pyplot as plt\n",
    "from scipy import *\n",
    "from scipy.integrate import odeint, ode"
   ]
  },
  {
   "cell_type": "markdown",
   "metadata": {},
   "source": [
    "The equations of motion for 2D projectile motion subject to air drag are given by:\n",
    "\n",
    "$\n",
    "\\begin{align}\n",
    "m \\boldsymbol{\\ddot{r}} &= m\\boldsymbol{g} - cv^2\\hat{\\boldsymbol{v}} \\\\\n",
    "&= m\\boldsymbol{g} - cv\\boldsymbol{v}\n",
    "\\end{align}\n",
    "$\n",
    "\n",
    "Resolving into horizontal and vertical components gives:\n",
    "\n",
    "$\n",
    "\\begin{align}\n",
    "m\\dot{v}_x &= -c\\sqrt{v_x^2 + v_y^2}v_x \\\\\n",
    "m\\dot{v}_y &= -mg -c\\sqrt{v_x^2 + v_y^2}v_y \\\\\n",
    "\\end{align}\n",
    "$\n",
    "\n",
    "and if we let\n",
    "\n",
    "$ \n",
    "\\boldsymbol{x} = \n",
    "\\begin{bmatrix}\n",
    "x \\\\\n",
    "y \\\\\n",
    "\\dot x \\\\\n",
    "\\dot y\n",
    "\\end{bmatrix}\n",
    "$\n",
    "\n",
    "and then\n",
    "\n",
    "$\n",
    "\\dot{\\boldsymbol{x}} = \n",
    "\\begin{bmatrix}\n",
    "\\dot x \\\\\n",
    "\\dot y \\\\\n",
    "\\ddot x \\\\\n",
    "\\ddot y \n",
    "\\end{bmatrix}\n",
    "=\n",
    "\\begin{bmatrix}\n",
    "0 & 0 & 1 & 0 \\\\\n",
    "0 & 0 & 0 & 1 \\\\\n",
    "0 & 0 & -\\frac{c}{m}\\sqrt{\\dot{x}^2 + \\dot{y}^2} & 0 \\\\\n",
    "0 & 0 & 0 & -g -\\frac{c}{m}\\sqrt{\\dot{x}^2 + \\dot{y}^2}\n",
    "\\end{bmatrix}\n",
    "\\begin{bmatrix}\n",
    "x \\\\\n",
    "y \\\\\n",
    "\\dot x \\\\\n",
    "\\dot y\n",
    "\\end{bmatrix}\n",
    "$"
   ]
  },
  {
   "cell_type": "code",
   "execution_count": null,
   "metadata": {
    "collapsed": false
   },
   "outputs": [],
   "source": [
    "# set constants and define differentials\n",
    "\n",
    "g = 9.82 # m/s^2\n",
    "m = 0.15 # kg\n",
    "D = 0.07 # m\n",
    "gamma = 0.25 # N*s^2/m^4\n",
    "c = gamma*D**2 \n",
    "\n",
    "def dx(x, t):\n",
    "    \"\"\"\n",
    "    The right-hand side of the coupled equations\n",
    "    \"\"\"\n",
    "    x, y, Dx, Dy = x[0], x[1], x[2], x[3]\n",
    "    \n",
    "    dx1 = Dx\n",
    "    dx2 = Dy\n",
    "    dx3 = -(c/m)*(Dx**2 + Dy**2)**(1./2)*Dx\n",
    "    dx4 = -g -(c/m)*(Dx**2 + Dy**2)**(1./2)*Dy\n",
    "    \n",
    "    return [dx1, dx2, dx3, dx4]"
   ]
  },
  {
   "cell_type": "code",
   "execution_count": null,
   "metadata": {
    "collapsed": false
   },
   "outputs": [],
   "source": [
    "# choose an initial state\n",
    "\n",
    "initial_velocity = 30  # m/s\n",
    "initial_angle = 50     # degrees\n",
    "\n",
    "v0x = initial_velocity*cos(float(initial_angle)/180*pi)\n",
    "v0y = initial_velocity*sin(float(initial_angle)/180*pi)\n",
    "\n",
    "x0 = [0, 0, v0x, v0y]  # (initial angle, initial angular velocity)\n",
    "print v0x, v0y"
   ]
  },
  {
   "cell_type": "code",
   "execution_count": null,
   "metadata": {
    "collapsed": true
   },
   "outputs": [],
   "source": [
    "# time coodinate to solve the ODE for: from 0 to 10 seconds\n",
    "\n",
    "t = linspace(0, 10, 501)"
   ]
  },
  {
   "cell_type": "code",
   "execution_count": null,
   "metadata": {
    "collapsed": true
   },
   "outputs": [],
   "source": [
    "# solve the coupled ODE \n",
    "\n",
    "x = odeint(dx, x0, t)  # note that the matrix notation takes care of the individual differentials"
   ]
  },
  {
   "cell_type": "code",
   "execution_count": null,
   "metadata": {
    "collapsed": false
   },
   "outputs": [],
   "source": [
    "# x = [x-coord(t), y-coord(t), x-vel(t), y-vel(t)]\n",
    "\n",
    "x.shape "
   ]
  },
  {
   "cell_type": "code",
   "execution_count": null,
   "metadata": {
    "collapsed": false
   },
   "outputs": [],
   "source": [
    "# projectile motion without resistance\n",
    "\n",
    "xx = 0 + x0[2]*t\n",
    "yy = 0 + x0[3]*t - g/2*t**2"
   ]
  },
  {
   "cell_type": "code",
   "execution_count": null,
   "metadata": {
    "collapsed": false
   },
   "outputs": [],
   "source": [
    "# locate indicies for integral times t = 1,2,3,4,5,6,7,8\n",
    "\n",
    "idt = []\n",
    "for k in range(1,9):\n",
    "    tt = abs(t - k) < 10**(-4)\n",
    "    print where(tt)[0][0], k\n",
    "    idt.append(where(tt)[0][0])"
   ]
  },
  {
   "cell_type": "code",
   "execution_count": null,
   "metadata": {
    "collapsed": false
   },
   "outputs": [],
   "source": [
    "# plot the projectiles as a function of time and space\n",
    "\n",
    "f, ax = plt.subplots(facecolor='white',figsize=(14,10))\n",
    "ax.plot(xx, yy, '--b', label=\"projectile without wind resistance\")\n",
    "ax.plot(x[:, 0], x[:, 1], '-r', label=\"projectile with wind resistance\")\n",
    "ax.plot(x[idt, 0], x[idt, 1], 'ok', label=\"integral times\")\n",
    "ax.plot(xx[idt], yy[idt], 'ok')\n",
    "ax.set_title('Projectile Motion')\n",
    "ax.set_xlabel('X [m]')\n",
    "ax.set_ylabel('Y [m]')\n",
    "ax.set_ylim(-150,35)\n",
    "ax.set_yticks(linspace(-150,30,37))\n",
    "ax.grid()\n",
    "ax.legend()\n",
    "ax.annotate('t = 8s', xy=(85, -107), xytext=(65, -107),\n",
    "            arrowprops=dict(facecolor='black', shrink=0.05,width=1,headwidth = 3),\n",
    "            )\n",
    "ax.annotate('t = 8s', xy=(158, -130), xytext=(170, -130),\n",
    "            arrowprops=dict(facecolor='black', shrink=0.05,width=1,headwidth = 3),\n",
    "            )"
   ]
  }
 ],
 "metadata": {
  "kernelspec": {
   "display_name": "Python 2",
   "language": "python",
   "name": "python2"
  },
  "language_info": {
   "codemirror_mode": {
    "name": "ipython",
    "version": 2
   },
   "file_extension": ".py",
   "mimetype": "text/x-python",
   "name": "python",
   "nbconvert_exporter": "python",
   "pygments_lexer": "ipython2",
   "version": "2.7.12"
  }
 },
 "nbformat": 4,
 "nbformat_minor": 0
}
