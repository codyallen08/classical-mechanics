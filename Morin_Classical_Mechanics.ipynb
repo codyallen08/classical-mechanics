{
 "cells": [
  {
   "cell_type": "code",
   "execution_count": 14,
   "metadata": {},
   "outputs": [],
   "source": [
    "%matplotlib inline\n",
    "import matplotlib.pyplot as plt\n",
    "from scipy import *\n",
    "from scipy.optimize import minimize\n",
    "import numpy as np\n",
    "from IPython.display import Image\n",
    "from scipy.integrate import odeint, ode"
   ]
  },
  {
   "cell_type": "markdown",
   "metadata": {},
   "source": [
    "### Solutions for the numerical problems in chapter 1 of Classical Mechanics by Dr. Morin."
   ]
  },
  {
   "cell_type": "markdown",
   "metadata": {},
   "source": [
    "#### problem on page 13"
   ]
  },
  {
   "cell_type": "code",
   "execution_count": null,
   "metadata": {},
   "outputs": [],
   "source": [
    "# solve differential eqn at time=3\n",
    "\n",
    "x=2\n",
    "x1=0\n",
    "t=3\n",
    "eps_pow = 5\n",
    "eps = 1*10**(-eps_pow)\n",
    "print(eps)\n",
    "\n",
    "for i in range(t*10**eps_pow):\n",
    "    x2 = -5*x\n",
    "    x = x + eps*x1\n",
    "    x1 = x1 + eps*x2\n",
    "    \n",
    "print(x)"
   ]
  },
  {
   "cell_type": "markdown",
   "metadata": {},
   "source": [
    "#### Problem 1.7"
   ]
  },
  {
   "cell_type": "code",
   "execution_count": null,
   "metadata": {},
   "outputs": [],
   "source": [
    "#%%timeit\n",
    "\n",
    "g = 9.8\n",
    "r=1\n",
    "r1=0\n",
    "th=3.1415/18\n",
    "th1=0\n",
    "t=10\n",
    "eps_pow = 6\n",
    "eps = 10**(-eps_pow)\n",
    "tol = 10**(-4)\n",
    "\n",
    "for i in range(t*10**eps_pow):\n",
    "    if 2-r >= tol:\n",
    "        r2 = 0.5*(r*th1**2 - g*(1-np.cos(th)))\n",
    "        th2 = -(1/r)*(2*r1*th1 + g*np.sin(th))\n",
    "        r = r + eps*r1\n",
    "        r1 = r1 + eps*r2\n",
    "        th = th + eps*th1\n",
    "        th1 = th1 + eps*th2\n",
    "    else:\n",
    "        break\n",
    "    \n",
    "print(r,f\"time = {i/10**eps_pow}s\")"
   ]
  },
  {
   "cell_type": "markdown",
   "metadata": {},
   "source": [
    "#### Exercise 1.17"
   ]
  },
  {
   "cell_type": "code",
   "execution_count": null,
   "metadata": {},
   "outputs": [],
   "source": [
    "g = 9.8\n",
    "l = 1\n",
    "th = np.pi/2\n",
    "th1 = 0\n",
    "t=10\n",
    "eps_pow = 6\n",
    "eps = 10**(-eps_pow)\n",
    "tol = 10**(-4)\n",
    "\n",
    "for i in range(t*10**eps_pow):\n",
    "    if abs(th) > tol:\n",
    "        th2 = -g*np.sin(th)/l\n",
    "        th = th + eps*th1\n",
    "        th1 = th1 + eps*th2\n",
    "    else:\n",
    "        break\n",
    "\n",
    "print(th,f\"time = {i/10**eps_pow}s\")\n"
   ]
  },
  {
   "cell_type": "markdown",
   "metadata": {},
   "source": [
    "#### Exercise 1.18"
   ]
  },
  {
   "cell_type": "code",
   "execution_count": null,
   "metadata": {},
   "outputs": [],
   "source": [
    "# First part\n",
    "A = 1\n",
    "x1 = 2\n",
    "x = 0\n",
    "\n",
    "t=101\n",
    "eps_pow = 4\n",
    "eps = 10**(-eps_pow)\n",
    "tol = 10**(-5)\n",
    "t_keep = [1, 10,100,]\n",
    "\n",
    "for i in range(t*10**eps_pow):\n",
    "    if len(t_keep) > 0:\n",
    "        tval = i/10**eps_pow\n",
    "        x2 = -A*x1\n",
    "        x = x + eps*x1\n",
    "        x1 = x1 + eps*x2\n",
    "        if abs(tval - t_keep[0]) < tol:\n",
    "            print(x,f\"time = {i/10**eps_pow}s\")\n",
    "            t_keep.pop(0)\n",
    "            print(t_keep)"
   ]
  },
  {
   "cell_type": "code",
   "execution_count": null,
   "metadata": {},
   "outputs": [],
   "source": [
    "# second part\n",
    "# First part\n",
    "x1 = 1\n",
    "x = 0\n",
    "t = 1001\n",
    "t_keep = [1, 10,100,1000]\n",
    "t_keep1 = t_keep.copy()\n",
    "val = []\n",
    "\n",
    "for i in range(t*10**eps_pow):\n",
    "    if len(t_keep) > 0:\n",
    "        tval = i/10**eps_pow\n",
    "        x2 = -A*x1**2\n",
    "        x = x + eps*x1\n",
    "        x1 = x1 + eps*x2\n",
    "        if abs(tval - t_keep[0]) < tol:\n",
    "            val.append(x)\n",
    "            print(x,f\"time = {i/10**eps_pow}s\")\n",
    "            t_keep.pop(0)\n",
    "            print(t_keep)\n",
    "            \n",
    "plt.figure()\n",
    "plt.plot(t_keep1, val,'-o')\n",
    "plt.plot(t_keep1, np.log(t_keep1),'x-')"
   ]
  },
  {
   "cell_type": "markdown",
   "metadata": {},
   "source": [
    "#### 2.9 solve numeric part"
   ]
  },
  {
   "cell_type": "code",
   "execution_count": 10,
   "metadata": {},
   "outputs": [
    {
     "data": {
      "text/plain": [
       "[<matplotlib.lines.Line2D at 0x1234a6b90>]"
      ]
     },
     "execution_count": 10,
     "metadata": {},
     "output_type": "execute_result"
    },
    {
     "data": {
      "image/png": "[encoded data removed]",
      "text/plain": [
       "<Figure size 432x288 with 1 Axes>"
      ]
     },
     "metadata": {
      "needs_background": "light"
     },
     "output_type": "display_data"
    }
   ],
   "source": [
    "x = np.linspace(0.01,np.pi/2,100)\n",
    "y = np.tanh(x) - 1/x\n",
    "plt.figure()\n",
    "plt.plot(x,y,'-o')"
   ]
  },
  {
   "cell_type": "code",
   "execution_count": 17,
   "metadata": {},
   "outputs": [
    {
     "name": "stdout",
     "output_type": "stream",
     "text": [
      "1.1997846407565442 0.00010599113358711332\n"
     ]
    }
   ],
   "source": [
    "# simple search\n",
    "for x in np.linspace(0.1,np.pi/2,1000):\n",
    "    y = np.tanh(x)-1/x\n",
    "    if y > 0:\n",
    "        print(x, y)\n",
    "        break"
   ]
  },
  {
   "cell_type": "code",
   "execution_count": 22,
   "metadata": {},
   "outputs": [],
   "source": [
    "# lambda function\n",
    "z = lambda x: (np.tanh(x)-1/x)**2"
   ]
  },
  {
   "cell_type": "code",
   "execution_count": 25,
   "metadata": {},
   "outputs": [
    {
     "data": {
      "text/plain": [
       "      fun: 4.001565165873097e-12\n",
       " hess_inv: array([[1.01453423]])\n",
       "      jac: array([4.01567018e-06])\n",
       "  message: 'Optimization terminated successfully.'\n",
       "     nfev: 12\n",
       "      nit: 2\n",
       "     njev: 4\n",
       "   status: 0\n",
       "  success: True\n",
       "        x: array([1.19968064])"
      ]
     },
     "execution_count": 25,
     "metadata": {},
     "output_type": "execute_result"
    }
   ],
   "source": [
    "# least squares solution\n",
    "sol = minimize(z,1.5)\n",
    "sol"
   ]
  },
  {
   "cell_type": "code",
   "execution_count": 31,
   "metadata": {},
   "outputs": [
    {
     "name": "stdout",
     "output_type": "stream",
     "text": [
      "[2.51547475]\n",
      "[0.3376622]\n"
     ]
    }
   ],
   "source": [
    "eta = sol.x\n",
    "print(2*np.sinh(eta)/eta)\n",
    "print((np.cosh(eta)-1)/(2*eta))"
   ]
  },
  {
   "cell_type": "code",
   "execution_count": null,
   "metadata": {},
   "outputs": [],
   "source": []
  }
 ],
 "metadata": {
  "kernelspec": {
   "display_name": "Python 3",
   "language": "python",
   "name": "python3"
  },
  "language_info": {
   "codemirror_mode": {
    "name": "ipython",
    "version": 3
   },
   "file_extension": ".py",
   "mimetype": "text/x-python",
   "name": "python",
   "nbconvert_exporter": "python",
   "pygments_lexer": "ipython3",
   "version": "3.7.5"
  }
 },
 "nbformat": 4,
 "nbformat_minor": 2
}
