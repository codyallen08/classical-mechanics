{
 "cells": [
  {
   "cell_type": "code",
   "execution_count": 2,
   "metadata": {},
   "outputs": [],
   "source": [
    "%matplotlib inline\n",
    "import matplotlib.pyplot as plt\n",
    "from scipy import *\n",
    "import numpy as np\n",
    "from IPython.display import Image\n",
    "from scipy.integrate import odeint, ode"
   ]
  },
  {
   "cell_type": "markdown",
   "metadata": {},
   "source": [
    "#### problem on page 13"
   ]
  },
  {
   "cell_type": "code",
   "execution_count": 49,
   "metadata": {},
   "outputs": [
    {
     "name": "stdout",
     "output_type": "stream",
     "text": [
      "1e-05\n",
      "1.8221987670839337\n"
     ]
    }
   ],
   "source": [
    "# solve differential eqn at time=3\n",
    "\n",
    "x=2\n",
    "x1=0\n",
    "t=3\n",
    "eps_pow = 5\n",
    "eps = 1*10**(-eps_pow)\n",
    "print(eps)\n",
    "\n",
    "for i in range(t*10**eps_pow):\n",
    "    x2 = -5*x\n",
    "    x = x + eps*x1\n",
    "    x1 = x1 + eps*x2\n",
    "    \n",
    "print(x)"
   ]
  },
  {
   "cell_type": "markdown",
   "metadata": {},
   "source": [
    "#### Problem 1.7"
   ]
  },
  {
   "cell_type": "code",
   "execution_count": 22,
   "metadata": {},
   "outputs": [
    {
     "name": "stdout",
     "output_type": "stream",
     "text": [
      "1.9999001088430959 time = 8.142259s\n"
     ]
    }
   ],
   "source": [
    "#%%timeit\n",
    "\n",
    "g = 9.8\n",
    "r=1\n",
    "r1=0\n",
    "th=3.1415/18\n",
    "th1=0\n",
    "t=10\n",
    "eps_pow = 6\n",
    "eps = 10**(-eps_pow)\n",
    "tol = 10**(-4)\n",
    "\n",
    "for i in range(t*10**eps_pow):\n",
    "    if 2-r >= tol:\n",
    "        r2 = 0.5*(r*th1**2 - g*(1-np.cos(th)))\n",
    "        th2 = -(1/r)*(2*r1*th1 + g*np.sin(th))\n",
    "        r = r + eps*r1\n",
    "        r1 = r1 + eps*r2\n",
    "        th = th + eps*th1\n",
    "        th1 = th1 + eps*th2\n",
    "    else:\n",
    "        break\n",
    "    \n",
    "print(r,f\"time = {i/10**eps_pow}s\")"
   ]
  },
  {
   "cell_type": "markdown",
   "metadata": {},
   "source": [
    "#### Exercise 1.17"
   ]
  },
  {
   "cell_type": "code",
   "execution_count": 21,
   "metadata": {},
   "outputs": [
    {
     "name": "stdout",
     "output_type": "stream",
     "text": [
      "9.580987248230337e-05 time = 0.592241s\n"
     ]
    }
   ],
   "source": [
    "g = 9.8\n",
    "l = 1\n",
    "th = np.pi/2\n",
    "th1 = 0\n",
    "t=10\n",
    "eps_pow = 6\n",
    "eps = 10**(-eps_pow)\n",
    "tol = 10**(-4)\n",
    "\n",
    "for i in range(t*10**eps_pow):\n",
    "    if abs(th) > tol:\n",
    "        th2 = -g*np.sin(th)/l\n",
    "        th = th + eps*th1\n",
    "        th1 = th1 + eps*th2\n",
    "    else:\n",
    "        break\n",
    "\n",
    "print(th,f\"time = {i/10**eps_pow}s\")\n"
   ]
  },
  {
   "cell_type": "markdown",
   "metadata": {},
   "source": [
    "#### Exercise 1.18"
   ]
  },
  {
   "cell_type": "code",
   "execution_count": null,
   "metadata": {},
   "outputs": [],
   "source": []
  }
 ],
 "metadata": {
  "kernelspec": {
   "display_name": "Python 3",
   "language": "python",
   "name": "python3"
  },
  "language_info": {
   "codemirror_mode": {
    "name": "ipython",
    "version": 3
   },
   "file_extension": ".py",
   "mimetype": "text/x-python",
   "name": "python",
   "nbconvert_exporter": "python",
   "pygments_lexer": "ipython3",
   "version": "3.7.5"
  }
 },
 "nbformat": 4,
 "nbformat_minor": 2
}
